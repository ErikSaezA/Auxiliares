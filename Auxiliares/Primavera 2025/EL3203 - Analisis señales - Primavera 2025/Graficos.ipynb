{
 "cells": [
  {
   "cell_type": "code",
   "execution_count": null,
   "metadata": {},
   "outputs": [
    {
     "ename": "",
     "evalue": "",
     "output_type": "error",
     "traceback": [
      "\u001b[1;31mRunning cells with '.venv (Python 3.11.9)' requires the ipykernel package.\n",
      "\u001b[1;31mInstall 'ipykernel' into the Python environment. \n",
      "\u001b[1;31mCommand: '\"c:/Users/Erik/Desktop/Auxiliares/Auxiliares/Auxiliares/Primavera 2025/.venv/Scripts/python.exe\" -m pip install ipykernel -U --force-reinstall'"
     ]
    }
   ],
   "source": [
    "# Fourier series approximation to illustrate symmetry:\n",
    "# 1) Even signal: full-wave rectified sine |sin t| (only cosine, even harmonics)\n",
    "# 2) Odd signal: square wave sign(sin t) (only sine, odd harmonics)\n",
    "#\n",
    "# We show how the reconstruction improves as the number of harmonics K increases.\n",
    "# Each chart stands alone (no subplots), uses matplotlib, and no explicit colors are set.\n",
    "\n",
    "import numpy as np\n",
    "import matplotlib.pyplot as plt\n",
    "\n",
    "# Domain\n",
    "t = np.linspace(-np.pi, np.pi, 4000, endpoint=False)\n",
    "\n",
    "# --- 1) Even signal: x_e(t) = |sin t| ---\n",
    "x_even = np.abs(np.sin(t))\n",
    "\n",
    "# Known Fourier series for |sin t| on [-pi, pi]:\n",
    "# |sin t| = (2/π) - (4/π) * sum_{n=1..∞} cos(2 n t) / (4 n^2 - 1)\n",
    "def rectified_sine_partial(t, K):\n",
    "    s = (2/np.pi) * np.ones_like(t)\n",
    "    for n in range(1, K+1):\n",
    "        s -= (4/np.pi) * np.cos(2*n*t) / (4*n**2 - 1)\n",
    "    return s\n",
    "\n",
    "Ks_even = [1, 2, 5, 15]\n",
    "plt.figure()\n",
    "plt.plot(t, x_even, linewidth=2, label='Original |sin t|')\n",
    "for K in Ks_even:\n",
    "    plt.plot(t, rectified_sine_partial(t, K), linewidth=1, label=f'K={K} (solo cosenos pares)')\n",
    "plt.title('Simetría par: aproximación de $|\\\\sin t|$ con serie de cosenos')\n",
    "plt.xlabel('t')\n",
    "plt.ylabel('x(t)')\n",
    "plt.ylim(-0.2, 1.4)\n",
    "plt.legend(loc='upper right')\n",
    "plt.grid(True)\n",
    "plt.show()\n",
    "\n",
    "# --- 2) Odd signal: x_o(t) = sign(sin t) ---\n",
    "x_odd = np.sign(np.sin(t))\n",
    "\n",
    "# Fourier series for square wave (amplitude ±1): \n",
    "# sign(sin t) = (4/π) * sum_{m odd} sin(m t)/m\n",
    "def square_partial(t, K):\n",
    "    # K counts odd harmonics: 1,3,5,... up to (2K-1)\n",
    "    s = np.zeros_like(t)\n",
    "    for k in range(1, K+1):\n",
    "        m = 2*k - 1  # odd harmonic index\n",
    "        s += (4/np.pi) * np.sin(m*t) / m\n",
    "    return s\n",
    "\n",
    "Ks_odd = [1, 2, 5, 15]\n",
    "plt.figure()\n",
    "plt.plot(t, x_odd, linewidth=2, label='Original sgn(sin t)')\n",
    "for K in Ks_odd:\n",
    "    plt.plot(t, square_partial(t, K), linewidth=1, label=f'K={K} (senos impares)')\n",
    "plt.title('Simetría impar: aproximación de la onda cuadrada con serie de senos')\n",
    "plt.xlabel('t')\n",
    "plt.ylabel('x(t)')\n",
    "plt.ylim(-1.4, 1.4)\n",
    "plt.legend(loc='lower right')\n",
    "plt.grid(True)\n",
    "plt.show()\n"
   ]
  },
  {
   "cell_type": "code",
   "execution_count": null,
   "id": "ddaa11c9",
   "metadata": {},
   "outputs": [],
   "source": []
  }
 ],
 "metadata": {
  "kernelspec": {
   "display_name": ".venv",
   "language": "python",
   "name": "python3"
  },
  "language_info": {
   "codemirror_mode": {
    "name": "ipython",
    "version": 3
   },
   "file_extension": ".py",
   "mimetype": "text/x-python",
   "name": "python",
   "nbconvert_exporter": "python",
   "pygments_lexer": "ipython3",
   "version": "3.11.9"
  }
 },
 "nbformat": 4,
 "nbformat_minor": 5
}
